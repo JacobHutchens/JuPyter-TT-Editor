{
 "cells": [
  {
   "cell_type": "markdown",
   "metadata": {},
   "source": [
    "# Library Showcase  "
   ]
  },
  {
   "cell_type": "markdown",
   "metadata": {},
   "source": [
    "## How to Setup\n",
    "\n",
    "Package's name is 'jupytertteditor' or Jupyter Truth Table Editor\n",
    "\n",
    "To import the package you will need to run the pip install command\n",
    "\n",
    "pip install .../jupytertteditor-0.1-py3-none-any.whl\n",
    "\n",
    "replace '...' with the file location"
   ]
  },
  {
   "cell_type": "markdown",
   "metadata": {},
   "source": [
    "## How to Start Using"
   ]
  },
  {
   "cell_type": "markdown",
   "metadata": {},
   "source": [
    "### First\n",
    "\n",
    "You will need to import the TruthTable class from jupytertteditor"
   ]
  },
  {
   "cell_type": "code",
   "execution_count": 2,
   "metadata": {},
   "outputs": [],
   "source": [
    "from jupytertteditor import TruthTable"
   ]
  },
  {
   "cell_type": "markdown",
   "metadata": {},
   "source": [
    "### Second \n",
    "\n",
    "You will need to initialize the table with whatever number of variables you want.\n",
    "\n",
    "Use the .display() method to showcase your Truth Table"
   ]
  },
  {
   "cell_type": "code",
   "execution_count": 3,
   "metadata": {},
   "outputs": [
    {
     "name": "stdout",
     "output_type": "stream",
     "text": [
      "        A |        B |        C |\n",
      "     True |     True |     True |\n",
      "     True |     True |    False |\n",
      "     True |    False |     True |\n",
      "     True |    False |    False |\n",
      "    False |     True |     True |\n",
      "    False |     True |    False |\n",
      "    False |    False |     True |\n",
      "    False |    False |    False |\n"
     ]
    }
   ],
   "source": [
    "TT = TruthTable(3)\n",
    "TT.display()"
   ]
  },
  {
   "cell_type": "markdown",
   "metadata": {},
   "source": [
    "### Third\n",
    "\n",
    "Do whatever you want"
   ]
  },
  {
   "cell_type": "markdown",
   "metadata": {},
   "source": [
    "#### Create a column for 'not A and B'"
   ]
  },
  {
   "cell_type": "code",
   "execution_count": 4,
   "metadata": {},
   "outputs": [
    {
     "name": "stdout",
     "output_type": "stream",
     "text": [
      "        A |        B |        C |   not A and B |\n",
      "     True |     True |     True |         False |\n",
      "     True |     True |    False |         False |\n",
      "     True |    False |     True |         False |\n",
      "     True |    False |    False |         False |\n",
      "    False |     True |     True |          True |\n",
      "    False |     True |    False |          True |\n",
      "    False |    False |     True |         False |\n",
      "    False |    False |    False |         False |\n"
     ]
    }
   ],
   "source": [
    "TT.create_column(\"not A and B\", True, \"A\", \"and\", False, \"B\")\n",
    "TT.display()"
   ]
  },
  {
   "cell_type": "markdown",
   "metadata": {},
   "source": [
    "#### Create a column that has been acted on by the 'not' operater"
   ]
  },
  {
   "cell_type": "code",
   "execution_count": 5,
   "metadata": {},
   "outputs": [
    {
     "name": "stdout",
     "output_type": "stream",
     "text": [
      "        A |        B |        C |   not A and B |    not C |\n",
      "     True |     True |     True |         False |    False |\n",
      "     True |     True |    False |         False |     True |\n",
      "     True |    False |     True |         False |    False |\n",
      "     True |    False |    False |         False |     True |\n",
      "    False |     True |     True |          True |    False |\n",
      "    False |     True |    False |          True |     True |\n",
      "    False |    False |     True |         False |    False |\n",
      "    False |    False |    False |         False |     True |\n"
     ]
    }
   ],
   "source": [
    "TT.create_not_column(\"not C\", \"C\")\n",
    "TT.display()"
   ]
  },
  {
   "cell_type": "markdown",
   "metadata": {},
   "source": [
    "#### Compare two columns that you created"
   ]
  },
  {
   "cell_type": "code",
   "execution_count": 9,
   "metadata": {},
   "outputs": [
    {
     "name": "stdout",
     "output_type": "stream",
     "text": [
      "        A |        B |        C |   not A and B |    not C |   (not A and B) xor C |\n",
      "     True |     True |     True |         False |    False |                 False |\n",
      "     True |     True |    False |         False |     True |                  True |\n",
      "     True |    False |     True |         False |    False |                 False |\n",
      "     True |    False |    False |         False |     True |                  True |\n",
      "    False |     True |     True |          True |    False |                  True |\n",
      "    False |     True |    False |          True |     True |                 False |\n",
      "    False |    False |     True |         False |    False |                 False |\n",
      "    False |    False |    False |         False |     True |                  True |\n"
     ]
    }
   ],
   "source": [
    "TT.create_column(\"(not A and B) xor C\", False, \"not A and B\", \"xor\", False, \"not C\")\n",
    "TT.display()"
   ]
  },
  {
   "cell_type": "markdown",
   "metadata": {},
   "source": [
    "#### You may have noticed I gave that one the wrong name, doesn't matter though"
   ]
  },
  {
   "cell_type": "code",
   "execution_count": 10,
   "metadata": {},
   "outputs": [
    {
     "name": "stdout",
     "output_type": "stream",
     "text": [
      "        A |        B |        C |   not A and B |    not C |   (not A and B) xor not C |\n",
      "     True |     True |     True |         False |    False |                     False |\n",
      "     True |     True |    False |         False |     True |                      True |\n",
      "     True |    False |     True |         False |    False |                     False |\n",
      "     True |    False |    False |         False |     True |                      True |\n",
      "    False |     True |     True |          True |    False |                      True |\n",
      "    False |     True |    False |          True |     True |                     False |\n",
      "    False |    False |     True |         False |    False |                     False |\n",
      "    False |    False |    False |         False |     True |                      True |\n"
     ]
    }
   ],
   "source": [
    "TT.change_column_name(\"(not A and B) xor C\", \"(not A and B) xor not C\")\n",
    "TT.display()"
   ]
  },
  {
   "cell_type": "markdown",
   "metadata": {},
   "source": [
    "#### Then if you decide you don't need one anymore, you can delete it"
   ]
  },
  {
   "cell_type": "code",
   "execution_count": 11,
   "metadata": {},
   "outputs": [
    {
     "name": "stdout",
     "output_type": "stream",
     "text": [
      "        A |        B |        C |   not A and B |    not C |\n",
      "     True |     True |     True |         False |    False |\n",
      "     True |     True |    False |         False |     True |\n",
      "     True |    False |     True |         False |    False |\n",
      "     True |    False |    False |         False |     True |\n",
      "    False |     True |     True |          True |    False |\n",
      "    False |     True |    False |          True |     True |\n",
      "    False |    False |     True |         False |    False |\n",
      "    False |    False |    False |         False |     True |\n"
     ]
    }
   ],
   "source": [
    "TT.remove_column(\"(not A and B) xor not C\")\n",
    "TT.display()"
   ]
  }
 ],
 "metadata": {
  "kernelspec": {
   "display_name": "Python 3",
   "language": "python",
   "name": "python3"
  },
  "language_info": {
   "codemirror_mode": {
    "name": "ipython",
    "version": 3
   },
   "file_extension": ".py",
   "mimetype": "text/x-python",
   "name": "python",
   "nbconvert_exporter": "python",
   "pygments_lexer": "ipython3",
   "version": "3.13.3"
  }
 },
 "nbformat": 4,
 "nbformat_minor": 2
}
